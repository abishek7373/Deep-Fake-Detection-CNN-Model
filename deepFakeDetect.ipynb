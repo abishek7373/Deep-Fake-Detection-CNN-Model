{
 "cells": [
  {
   "cell_type": "code",
   "execution_count": 1,
   "id": "c3a5d64e-fc9b-49ea-abd7-3e9de81a98ea",
   "metadata": {},
   "outputs": [],
   "source": [
    "import os\n",
    "import cv2\n",
    "import numpy as np\n",
    "import pandas as pd\n",
    "from sklearn.model_selection import train_test_split\n",
    "from tensorflow.keras.models import Sequential\n",
    "from tensorflow.keras.layers import Conv2D, MaxPooling2D, Flatten, LSTM, Dense, TimeDistributed, Dropout\n",
    "from tensorflow.keras.optimizers import Adam\n",
    "from tensorflow.keras.preprocessing.sequence import pad_sequences\n"
   ]
  },
  {
   "cell_type": "code",
   "execution_count": 2,
   "id": "f9ac8eb9-9860-4827-aeff-65c0bb2a4f06",
   "metadata": {},
   "outputs": [],
   "source": [
    "metadata_path = r'C:\\Projects\\DeepfakeDetection\\DeepFakeDetection_Dataset\\metadata.csv'\n",
    "metadata = pd.read_csv(metadata_path)\n"
   ]
  },
  {
   "cell_type": "code",
   "execution_count": 3,
   "id": "825de22f-6c33-4cca-a450-34ca916c6661",
   "metadata": {},
   "outputs": [],
   "source": [
    "video_dir = r'C:\\Projects\\DeepfakeDetection\\DeepFakeDetection_Dataset\\data'\n",
    "metadata['video_path'] = metadata['video_path'].apply(lambda x: os.path.join(video_dir, x))\n",
    "metadata['label'] = metadata['label'].apply(lambda x: 1 if x == 'REAL' else 0)\n"
   ]
  },
  {
   "cell_type": "code",
   "execution_count": 4,
   "id": "c926221a-8365-4d4e-b65f-96d98241e5aa",
   "metadata": {},
   "outputs": [
    {
     "data": {
      "text/html": [
       "<div>\n",
       "<style scoped>\n",
       "    .dataframe tbody tr th:only-of-type {\n",
       "        vertical-align: middle;\n",
       "    }\n",
       "\n",
       "    .dataframe tbody tr th {\n",
       "        vertical-align: top;\n",
       "    }\n",
       "\n",
       "    .dataframe thead th {\n",
       "        text-align: right;\n",
       "    }\n",
       "</style>\n",
       "<table border=\"1\" class=\"dataframe\">\n",
       "  <thead>\n",
       "    <tr style=\"text-align: right;\">\n",
       "      <th></th>\n",
       "      <th>video_path</th>\n",
       "      <th>label</th>\n",
       "    </tr>\n",
       "  </thead>\n",
       "  <tbody>\n",
       "    <tr>\n",
       "      <th>0</th>\n",
       "      <td>C:\\Projects\\DeepfakeDetection\\DeepFakeDetectio...</td>\n",
       "      <td>1</td>\n",
       "    </tr>\n",
       "    <tr>\n",
       "      <th>1</th>\n",
       "      <td>C:\\Projects\\DeepfakeDetection\\DeepFakeDetectio...</td>\n",
       "      <td>0</td>\n",
       "    </tr>\n",
       "    <tr>\n",
       "      <th>2</th>\n",
       "      <td>C:\\Projects\\DeepfakeDetection\\DeepFakeDetectio...</td>\n",
       "      <td>1</td>\n",
       "    </tr>\n",
       "    <tr>\n",
       "      <th>3</th>\n",
       "      <td>C:\\Projects\\DeepfakeDetection\\DeepFakeDetectio...</td>\n",
       "      <td>0</td>\n",
       "    </tr>\n",
       "    <tr>\n",
       "      <th>4</th>\n",
       "      <td>C:\\Projects\\DeepfakeDetection\\DeepFakeDetectio...</td>\n",
       "      <td>1</td>\n",
       "    </tr>\n",
       "    <tr>\n",
       "      <th>...</th>\n",
       "      <td>...</td>\n",
       "      <td>...</td>\n",
       "    </tr>\n",
       "    <tr>\n",
       "      <th>1995</th>\n",
       "      <td>C:\\Projects\\DeepfakeDetection\\DeepFakeDetectio...</td>\n",
       "      <td>0</td>\n",
       "    </tr>\n",
       "    <tr>\n",
       "      <th>1996</th>\n",
       "      <td>C:\\Projects\\DeepfakeDetection\\DeepFakeDetectio...</td>\n",
       "      <td>1</td>\n",
       "    </tr>\n",
       "    <tr>\n",
       "      <th>1997</th>\n",
       "      <td>C:\\Projects\\DeepfakeDetection\\DeepFakeDetectio...</td>\n",
       "      <td>0</td>\n",
       "    </tr>\n",
       "    <tr>\n",
       "      <th>1998</th>\n",
       "      <td>C:\\Projects\\DeepfakeDetection\\DeepFakeDetectio...</td>\n",
       "      <td>1</td>\n",
       "    </tr>\n",
       "    <tr>\n",
       "      <th>1999</th>\n",
       "      <td>C:\\Projects\\DeepfakeDetection\\DeepFakeDetectio...</td>\n",
       "      <td>0</td>\n",
       "    </tr>\n",
       "  </tbody>\n",
       "</table>\n",
       "<p>2000 rows × 2 columns</p>\n",
       "</div>"
      ],
      "text/plain": [
       "                                             video_path  label\n",
       "0     C:\\Projects\\DeepfakeDetection\\DeepFakeDetectio...      1\n",
       "1     C:\\Projects\\DeepfakeDetection\\DeepFakeDetectio...      0\n",
       "2     C:\\Projects\\DeepfakeDetection\\DeepFakeDetectio...      1\n",
       "3     C:\\Projects\\DeepfakeDetection\\DeepFakeDetectio...      0\n",
       "4     C:\\Projects\\DeepfakeDetection\\DeepFakeDetectio...      1\n",
       "...                                                 ...    ...\n",
       "1995  C:\\Projects\\DeepfakeDetection\\DeepFakeDetectio...      0\n",
       "1996  C:\\Projects\\DeepfakeDetection\\DeepFakeDetectio...      1\n",
       "1997  C:\\Projects\\DeepfakeDetection\\DeepFakeDetectio...      0\n",
       "1998  C:\\Projects\\DeepfakeDetection\\DeepFakeDetectio...      1\n",
       "1999  C:\\Projects\\DeepfakeDetection\\DeepFakeDetectio...      0\n",
       "\n",
       "[2000 rows x 2 columns]"
      ]
     },
     "execution_count": 4,
     "metadata": {},
     "output_type": "execute_result"
    }
   ],
   "source": [
    "metadata"
   ]
  },
  {
   "cell_type": "code",
   "execution_count": 5,
   "id": "fba6ac57-74e1-49dd-8f29-a870507ffd32",
   "metadata": {},
   "outputs": [],
   "source": [
    "def extract_frames(video_path, num_frames=15):\n",
    "    cap = cv2.VideoCapture(video_path)\n",
    "    frames = []\n",
    "    frame_count = int(cap.get(cv2.CAP_PROP_FRAME_COUNT))\n",
    "    skip = max(int(frame_count/num_frames), 1)\n",
    "    \n",
    "    for i in range(0, frame_count, skip):\n",
    "        cap.set(cv2.CAP_PROP_POS_FRAMES, i)\n",
    "        ret, frame = cap.read()\n",
    "        if ret:\n",
    "            frame = cv2.resize(frame, (224, 224))\n",
    "            frames.append(frame)\n",
    "        if len(frames) == num_frames:\n",
    "            break\n",
    "    cap.release()\n",
    "    return np.array(frames)\n"
   ]
  },
  {
   "cell_type": "code",
   "execution_count": 6,
   "id": "06dceaf1-c6f7-4676-aef8-e2cf74f54bb9",
   "metadata": {},
   "outputs": [],
   "source": [
    "video_data = []\n",
    "labels = []\n",
    "\n",
    "for idx, row in metadata.iterrows():\n",
    "    frames = extract_frames(row['video_path'])\n",
    "    if len(frames) == 15:\n",
    "        video_data.append(frames)\n",
    "        labels.append(row['label'])\n",
    "\n",
    "video_data = np.array(video_data)\n",
    "labels = np.array(labels)\n"
   ]
  },
  {
   "cell_type": "code",
   "execution_count": 7,
   "id": "9de101ea-526e-461b-a797-b8f517ec9a7b",
   "metadata": {},
   "outputs": [
    {
     "data": {
      "text/plain": [
       "array([1, 0, 1, ..., 0, 1, 0])"
      ]
     },
     "execution_count": 7,
     "metadata": {},
     "output_type": "execute_result"
    }
   ],
   "source": [
    "labels"
   ]
  },
  {
   "cell_type": "code",
   "execution_count": 8,
   "id": "2850f56a-8147-4b9e-9727-ca2646d36d1b",
   "metadata": {},
   "outputs": [],
   "source": [
    "X_train, X_test, y_train, y_test = train_test_split(video_data, labels, test_size=0.2, random_state=42, stratify=labels)\n"
   ]
  },
  {
   "cell_type": "code",
   "execution_count": 9,
   "id": "3ffa6708-8458-48d0-beb3-3a6a8b26fed6",
   "metadata": {},
   "outputs": [
    {
     "name": "stderr",
     "output_type": "stream",
     "text": [
      "C:\\Users\\abish\\AppData\\Local\\Programs\\Python\\Python310\\lib\\site-packages\\keras\\src\\layers\\convolutional\\base_conv.py:107: UserWarning: Do not pass an `input_shape`/`input_dim` argument to a layer. When using Sequential models, prefer using an `Input(shape)` object as the first layer in the model instead.\n",
      "  super().__init__(activity_regularizer=activity_regularizer, **kwargs)\n"
     ]
    }
   ],
   "source": [
    "model = Sequential()\n",
    "model.add(TimeDistributed(Conv2D(32, (3, 3), activation='relu', input_shape=(224, 224, 3))))\n",
    "model.add(TimeDistributed(MaxPooling2D((2, 2))))\n",
    "model.add(TimeDistributed(Conv2D(64, (3, 3), activation='relu')))\n",
    "model.add(TimeDistributed(MaxPooling2D((2, 2))))\n",
    "model.add(TimeDistributed(Flatten()))\n",
    "\n",
    "model.add(LSTM(64, return_sequences=False))\n",
    "model.add(Dropout(0.5))\n",
    "model.add(Dense(64, activation='relu'))\n",
    "model.add(Dense(1, activation='sigmoid'))\n",
    "\n",
    "model.compile(optimizer=Adam(learning_rate=0.001), loss='binary_crossentropy', metrics=['accuracy'])\n"
   ]
  },
  {
   "cell_type": "code",
   "execution_count": null,
   "id": "77f788e4-3b2b-4589-bc43-b37a11ddbafb",
   "metadata": {},
   "outputs": [
    {
     "name": "stdout",
     "output_type": "stream",
     "text": [
      "Epoch 1/20\n",
      "\u001b[1m199/199\u001b[0m \u001b[32m━━━━━━━━━━━━━━━━━━━━\u001b[0m\u001b[37m\u001b[0m \u001b[1m5871s\u001b[0m 29s/step - accuracy: 0.5260 - loss: 0.7127 - val_accuracy: 0.5000 - val_loss: 0.6943\n",
      "Epoch 2/20\n",
      "\u001b[1m199/199\u001b[0m \u001b[32m━━━━━━━━━━━━━━━━━━━━\u001b[0m\u001b[37m\u001b[0m \u001b[1m8344s\u001b[0m 42s/step - accuracy: 0.4783 - loss: 0.7074 - val_accuracy: 0.5000 - val_loss: 0.6943\n",
      "Epoch 3/20\n",
      "\u001b[1m199/199\u001b[0m \u001b[32m━━━━━━━━━━━━━━━━━━━━\u001b[0m\u001b[37m\u001b[0m \u001b[1m5564s\u001b[0m 28s/step - accuracy: 0.4972 - loss: 0.6988 - val_accuracy: 0.5000 - val_loss: 0.6932\n",
      "Epoch 4/20\n",
      "\u001b[1m199/199\u001b[0m \u001b[32m━━━━━━━━━━━━━━━━━━━━\u001b[0m\u001b[37m\u001b[0m \u001b[1m6111s\u001b[0m 31s/step - accuracy: 0.5243 - loss: 0.6979 - val_accuracy: 0.5000 - val_loss: 0.6938\n",
      "Epoch 5/20\n",
      "\u001b[1m199/199\u001b[0m \u001b[32m━━━━━━━━━━━━━━━━━━━━\u001b[0m\u001b[37m\u001b[0m \u001b[1m8815s\u001b[0m 44s/step - accuracy: 0.4984 - loss: 0.6932 - val_accuracy: 0.5000 - val_loss: 0.6944\n",
      "Epoch 6/20\n",
      "\u001b[1m199/199\u001b[0m \u001b[32m━━━━━━━━━━━━━━━━━━━━\u001b[0m\u001b[37m\u001b[0m \u001b[1m6263s\u001b[0m 32s/step - accuracy: 0.5033 - loss: 0.6993 - val_accuracy: 0.5000 - val_loss: 0.6946\n",
      "Epoch 7/20\n",
      "\u001b[1m199/199\u001b[0m \u001b[32m━━━━━━━━━━━━━━━━━━━━\u001b[0m\u001b[37m\u001b[0m \u001b[1m5584s\u001b[0m 28s/step - accuracy: 0.4962 - loss: 0.6993 - val_accuracy: 0.5000 - val_loss: 0.6932\n",
      "Epoch 8/20\n",
      "\u001b[1m199/199\u001b[0m \u001b[32m━━━━━━━━━━━━━━━━━━━━\u001b[0m\u001b[37m\u001b[0m \u001b[1m5235s\u001b[0m 26s/step - accuracy: 0.4847 - loss: 0.7003 - val_accuracy: 0.5000 - val_loss: 0.6947\n",
      "Epoch 9/20\n",
      "\u001b[1m199/199\u001b[0m \u001b[32m━━━━━━━━━━━━━━━━━━━━\u001b[0m\u001b[37m\u001b[0m \u001b[1m8348s\u001b[0m 28s/step - accuracy: 0.5044 - loss: 0.6957 - val_accuracy: 0.5000 - val_loss: 0.6954\n",
      "Epoch 10/20\n",
      "\u001b[1m199/199\u001b[0m \u001b[32m━━━━━━━━━━━━━━━━━━━━\u001b[0m\u001b[37m\u001b[0m \u001b[1m6810s\u001b[0m 34s/step - accuracy: 0.4587 - loss: 0.7000 - val_accuracy: 0.5000 - val_loss: 0.6976\n",
      "Epoch 11/20\n",
      "\u001b[1m199/199\u001b[0m \u001b[32m━━━━━━━━━━━━━━━━━━━━\u001b[0m\u001b[37m\u001b[0m \u001b[1m6982s\u001b[0m 35s/step - accuracy: 0.4930 - loss: 0.6974 - val_accuracy: 0.5000 - val_loss: 0.6963\n",
      "Epoch 12/20\n",
      "\u001b[1m199/199\u001b[0m \u001b[32m━━━━━━━━━━━━━━━━━━━━\u001b[0m\u001b[37m\u001b[0m \u001b[1m5572s\u001b[0m 28s/step - accuracy: 0.5132 - loss: 0.6927 - val_accuracy: 0.5000 - val_loss: 0.6959\n",
      "Epoch 13/20\n",
      "\u001b[1m199/199\u001b[0m \u001b[32m━━━━━━━━━━━━━━━━━━━━\u001b[0m\u001b[37m\u001b[0m \u001b[1m5596s\u001b[0m 28s/step - accuracy: 0.4955 - loss: 0.6983 - val_accuracy: 0.5000 - val_loss: 0.6967\n",
      "Epoch 14/20\n",
      "\u001b[1m114/199\u001b[0m \u001b[32m━━━━━━━━━━━\u001b[0m\u001b[37m━━━━━━━━━\u001b[0m \u001b[1m40:56\u001b[0m 29s/step - accuracy: 0.5186 - loss: 0.6986"
     ]
    }
   ],
   "source": [
    "history = model.fit(X_train, y_train, validation_data=(X_test, y_test), epochs=20, batch_size=8)\n"
   ]
  },
  {
   "cell_type": "code",
   "execution_count": null,
   "id": "437edd26-04ff-4fe1-8fdd-a2f24dfa85d2",
   "metadata": {},
   "outputs": [],
   "source": []
  }
 ],
 "metadata": {
  "kernelspec": {
   "display_name": "Python 3 (ipykernel)",
   "language": "python",
   "name": "python3"
  },
  "language_info": {
   "codemirror_mode": {
    "name": "ipython",
    "version": 3
   },
   "file_extension": ".py",
   "mimetype": "text/x-python",
   "name": "python",
   "nbconvert_exporter": "python",
   "pygments_lexer": "ipython3",
   "version": "3.10.7"
  }
 },
 "nbformat": 4,
 "nbformat_minor": 5
}
